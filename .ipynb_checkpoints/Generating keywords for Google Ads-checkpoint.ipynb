{
 "cells": [
  {
   "cell_type": "markdown",
   "id": "2190e4f1",
   "metadata": {},
   "source": [
    "## combine the words with the product names"
   ]
  },
  {
   "cell_type": "code",
   "execution_count": 1,
   "id": "9d81e69f",
   "metadata": {},
   "outputs": [],
   "source": [
    "#list of words to pair with products\n",
    "words = ['buy', 'price', 'discount', 'promotion', 'promo', 'shop']\n",
    "\n",
    "#combine the words with the product names\n",
    "products = ['sofas', 'convertible sofas', 'love seats', 'recliners', 'sofa beds']"
   ]
  },
  {
   "cell_type": "code",
   "execution_count": 4,
   "id": "1f038928",
   "metadata": {},
   "outputs": [
    {
     "data": {
      "text/plain": [
       "[['sofas', 'sofas buy'],\n",
       " ['sofas', 'buy sofas'],\n",
       " ['sofas', 'sofas price'],\n",
       " ['sofas', 'price sofas'],\n",
       " ['sofas', 'sofas discount'],\n",
       " ['sofas', 'discount sofas'],\n",
       " ['sofas', 'sofas promotion'],\n",
       " ['sofas', 'promotion sofas'],\n",
       " ['sofas', 'sofas promo'],\n",
       " ['sofas', 'promo sofas'],\n",
       " ['sofas', 'sofas shop'],\n",
       " ['sofas', 'shop sofas'],\n",
       " ['convertible sofas', 'convertible sofas buy'],\n",
       " ['convertible sofas', 'buy convertible sofas'],\n",
       " ['convertible sofas', 'convertible sofas price'],\n",
       " ['convertible sofas', 'price convertible sofas'],\n",
       " ['convertible sofas', 'convertible sofas discount'],\n",
       " ['convertible sofas', 'discount convertible sofas'],\n",
       " ['convertible sofas', 'convertible sofas promotion'],\n",
       " ['convertible sofas', 'promotion convertible sofas'],\n",
       " ['convertible sofas', 'convertible sofas promo'],\n",
       " ['convertible sofas', 'promo convertible sofas'],\n",
       " ['convertible sofas', 'convertible sofas shop'],\n",
       " ['convertible sofas', 'shop convertible sofas'],\n",
       " ['love seats', 'love seats buy'],\n",
       " ['love seats', 'buy love seats'],\n",
       " ['love seats', 'love seats price'],\n",
       " ['love seats', 'price love seats'],\n",
       " ['love seats', 'love seats discount'],\n",
       " ['love seats', 'discount love seats'],\n",
       " ['love seats', 'love seats promotion'],\n",
       " ['love seats', 'promotion love seats'],\n",
       " ['love seats', 'love seats promo'],\n",
       " ['love seats', 'promo love seats'],\n",
       " ['love seats', 'love seats shop'],\n",
       " ['love seats', 'shop love seats'],\n",
       " ['recliners', 'recliners buy'],\n",
       " ['recliners', 'buy recliners'],\n",
       " ['recliners', 'recliners price'],\n",
       " ['recliners', 'price recliners'],\n",
       " ['recliners', 'recliners discount'],\n",
       " ['recliners', 'discount recliners'],\n",
       " ['recliners', 'recliners promotion'],\n",
       " ['recliners', 'promotion recliners'],\n",
       " ['recliners', 'recliners promo'],\n",
       " ['recliners', 'promo recliners'],\n",
       " ['recliners', 'recliners shop'],\n",
       " ['recliners', 'shop recliners'],\n",
       " ['sofa beds', 'sofa beds buy'],\n",
       " ['sofa beds', 'buy sofa beds'],\n",
       " ['sofa beds', 'sofa beds price'],\n",
       " ['sofa beds', 'price sofa beds'],\n",
       " ['sofa beds', 'sofa beds discount'],\n",
       " ['sofa beds', 'discount sofa beds'],\n",
       " ['sofa beds', 'sofa beds promotion'],\n",
       " ['sofa beds', 'promotion sofa beds'],\n",
       " ['sofa beds', 'sofa beds promo'],\n",
       " ['sofa beds', 'promo sofa beds'],\n",
       " ['sofa beds', 'sofa beds shop'],\n",
       " ['sofa beds', 'shop sofa beds']]"
      ]
     },
     "execution_count": 4,
     "metadata": {},
     "output_type": "execute_result"
    }
   ],
   "source": [
    "#create an empty list to grab the keyword created\n",
    "keywords_list = []\n",
    "\n",
    "#loop through products\n",
    "for product in products:\n",
    "    #loop through word: \n",
    "    for word in words:\n",
    "        keywords_list.append([product, product + ' ' + word])\n",
    "        keywords_list.append([product, word + ' ' + product])\n",
    "#inspect keyword list\n",
    "keywords_list"
   ]
  },
  {
   "cell_type": "markdown",
   "id": "939293ba",
   "metadata": {},
   "source": [
    "## convert the list of lists into a DataFrame"
   ]
  },
  {
   "cell_type": "code",
   "execution_count": 6,
   "id": "15685130",
   "metadata": {},
   "outputs": [
    {
     "data": {
      "text/html": [
       "<div>\n",
       "<style scoped>\n",
       "    .dataframe tbody tr th:only-of-type {\n",
       "        vertical-align: middle;\n",
       "    }\n",
       "\n",
       "    .dataframe tbody tr th {\n",
       "        vertical-align: top;\n",
       "    }\n",
       "\n",
       "    .dataframe thead th {\n",
       "        text-align: right;\n",
       "    }\n",
       "</style>\n",
       "<table border=\"1\" class=\"dataframe\">\n",
       "  <thead>\n",
       "    <tr style=\"text-align: right;\">\n",
       "      <th></th>\n",
       "      <th>0</th>\n",
       "      <th>1</th>\n",
       "    </tr>\n",
       "  </thead>\n",
       "  <tbody>\n",
       "    <tr>\n",
       "      <th>0</th>\n",
       "      <td>sofas</td>\n",
       "      <td>sofas buy</td>\n",
       "    </tr>\n",
       "    <tr>\n",
       "      <th>1</th>\n",
       "      <td>sofas</td>\n",
       "      <td>buy sofas</td>\n",
       "    </tr>\n",
       "    <tr>\n",
       "      <th>2</th>\n",
       "      <td>sofas</td>\n",
       "      <td>sofas price</td>\n",
       "    </tr>\n",
       "    <tr>\n",
       "      <th>3</th>\n",
       "      <td>sofas</td>\n",
       "      <td>price sofas</td>\n",
       "    </tr>\n",
       "    <tr>\n",
       "      <th>4</th>\n",
       "      <td>sofas</td>\n",
       "      <td>sofas discount</td>\n",
       "    </tr>\n",
       "  </tbody>\n",
       "</table>\n",
       "</div>"
      ],
      "text/plain": [
       "       0               1\n",
       "0  sofas       sofas buy\n",
       "1  sofas       buy sofas\n",
       "2  sofas     sofas price\n",
       "3  sofas     price sofas\n",
       "4  sofas  sofas discount"
      ]
     },
     "execution_count": 6,
     "metadata": {},
     "output_type": "execute_result"
    }
   ],
   "source": [
    "import pandas as pd\n",
    "keywords_df = pd.DataFrame.from_records(keywords_list)\n",
    "keywords_df.head()"
   ]
  },
  {
   "cell_type": "markdown",
   "id": "abc793e7",
   "metadata": {},
   "source": [
    "## rename the column names"
   ]
  },
  {
   "cell_type": "code",
   "execution_count": 9,
   "id": "d083a08f",
   "metadata": {},
   "outputs": [],
   "source": [
    "keywords_df = keywords_df.rename(columns={0: 'Ad Group', 1: 'Keyword'})"
   ]
  },
  {
   "cell_type": "markdown",
   "id": "ac086188",
   "metadata": {},
   "source": [
    "## add a campaign column"
   ]
  },
  {
   "cell_type": "code",
   "execution_count": 10,
   "id": "83c902a0",
   "metadata": {},
   "outputs": [
    {
     "data": {
      "text/html": [
       "<div>\n",
       "<style scoped>\n",
       "    .dataframe tbody tr th:only-of-type {\n",
       "        vertical-align: middle;\n",
       "    }\n",
       "\n",
       "    .dataframe tbody tr th {\n",
       "        vertical-align: top;\n",
       "    }\n",
       "\n",
       "    .dataframe thead th {\n",
       "        text-align: right;\n",
       "    }\n",
       "</style>\n",
       "<table border=\"1\" class=\"dataframe\">\n",
       "  <thead>\n",
       "    <tr style=\"text-align: right;\">\n",
       "      <th></th>\n",
       "      <th>Ad Group</th>\n",
       "      <th>Keyword</th>\n",
       "      <th>Campaign</th>\n",
       "    </tr>\n",
       "  </thead>\n",
       "  <tbody>\n",
       "    <tr>\n",
       "      <th>0</th>\n",
       "      <td>sofas</td>\n",
       "      <td>sofas buy</td>\n",
       "      <td>SEM_Sofas</td>\n",
       "    </tr>\n",
       "    <tr>\n",
       "      <th>1</th>\n",
       "      <td>sofas</td>\n",
       "      <td>buy sofas</td>\n",
       "      <td>SEM_Sofas</td>\n",
       "    </tr>\n",
       "    <tr>\n",
       "      <th>2</th>\n",
       "      <td>sofas</td>\n",
       "      <td>sofas price</td>\n",
       "      <td>SEM_Sofas</td>\n",
       "    </tr>\n",
       "  </tbody>\n",
       "</table>\n",
       "</div>"
      ],
      "text/plain": [
       "  Ad Group      Keyword   Campaign\n",
       "0    sofas    sofas buy  SEM_Sofas\n",
       "1    sofas    buy sofas  SEM_Sofas\n",
       "2    sofas  sofas price  SEM_Sofas"
      ]
     },
     "execution_count": 10,
     "metadata": {},
     "output_type": "execute_result"
    }
   ],
   "source": [
    "keywords_df['Campaign'] = 'SEM_Sofas'\n",
    "keywords_df.head(3)"
   ]
  },
  {
   "cell_type": "markdown",
   "id": "8d67a910",
   "metadata": {},
   "source": [
    "## create the match type column"
   ]
  },
  {
   "cell_type": "code",
   "execution_count": 11,
   "id": "8d772f31",
   "metadata": {},
   "outputs": [],
   "source": [
    "keywords_df['Criterion Type'] = 'Exact'"
   ]
  },
  {
   "cell_type": "markdown",
   "id": "2b9c8d43",
   "metadata": {},
   "source": [
    "## duplicate all the keywords into 'phrase' match"
   ]
  },
  {
   "cell_type": "code",
   "execution_count": 13,
   "id": "b8b0d227",
   "metadata": {},
   "outputs": [
    {
     "data": {
      "text/html": [
       "<div>\n",
       "<style scoped>\n",
       "    .dataframe tbody tr th:only-of-type {\n",
       "        vertical-align: middle;\n",
       "    }\n",
       "\n",
       "    .dataframe tbody tr th {\n",
       "        vertical-align: top;\n",
       "    }\n",
       "\n",
       "    .dataframe thead th {\n",
       "        text-align: right;\n",
       "    }\n",
       "</style>\n",
       "<table border=\"1\" class=\"dataframe\">\n",
       "  <thead>\n",
       "    <tr style=\"text-align: right;\">\n",
       "      <th></th>\n",
       "      <th>Ad Group</th>\n",
       "      <th>Keyword</th>\n",
       "      <th>Campaign</th>\n",
       "      <th>Criterion Type</th>\n",
       "    </tr>\n",
       "  </thead>\n",
       "  <tbody>\n",
       "    <tr>\n",
       "      <th>0</th>\n",
       "      <td>sofas</td>\n",
       "      <td>sofas buy</td>\n",
       "      <td>SEM_Sofas</td>\n",
       "      <td>Exact</td>\n",
       "    </tr>\n",
       "    <tr>\n",
       "      <th>1</th>\n",
       "      <td>sofas</td>\n",
       "      <td>buy sofas</td>\n",
       "      <td>SEM_Sofas</td>\n",
       "      <td>Exact</td>\n",
       "    </tr>\n",
       "    <tr>\n",
       "      <th>2</th>\n",
       "      <td>sofas</td>\n",
       "      <td>sofas price</td>\n",
       "      <td>SEM_Sofas</td>\n",
       "      <td>Exact</td>\n",
       "    </tr>\n",
       "    <tr>\n",
       "      <th>3</th>\n",
       "      <td>sofas</td>\n",
       "      <td>price sofas</td>\n",
       "      <td>SEM_Sofas</td>\n",
       "      <td>Exact</td>\n",
       "    </tr>\n",
       "    <tr>\n",
       "      <th>4</th>\n",
       "      <td>sofas</td>\n",
       "      <td>sofas discount</td>\n",
       "      <td>SEM_Sofas</td>\n",
       "      <td>Exact</td>\n",
       "    </tr>\n",
       "    <tr>\n",
       "      <th>...</th>\n",
       "      <td>...</td>\n",
       "      <td>...</td>\n",
       "      <td>...</td>\n",
       "      <td>...</td>\n",
       "    </tr>\n",
       "    <tr>\n",
       "      <th>55</th>\n",
       "      <td>sofa beds</td>\n",
       "      <td>promotion sofa beds</td>\n",
       "      <td>SEM_Sofas</td>\n",
       "      <td>Phrase</td>\n",
       "    </tr>\n",
       "    <tr>\n",
       "      <th>56</th>\n",
       "      <td>sofa beds</td>\n",
       "      <td>sofa beds promo</td>\n",
       "      <td>SEM_Sofas</td>\n",
       "      <td>Phrase</td>\n",
       "    </tr>\n",
       "    <tr>\n",
       "      <th>57</th>\n",
       "      <td>sofa beds</td>\n",
       "      <td>promo sofa beds</td>\n",
       "      <td>SEM_Sofas</td>\n",
       "      <td>Phrase</td>\n",
       "    </tr>\n",
       "    <tr>\n",
       "      <th>58</th>\n",
       "      <td>sofa beds</td>\n",
       "      <td>sofa beds shop</td>\n",
       "      <td>SEM_Sofas</td>\n",
       "      <td>Phrase</td>\n",
       "    </tr>\n",
       "    <tr>\n",
       "      <th>59</th>\n",
       "      <td>sofa beds</td>\n",
       "      <td>shop sofa beds</td>\n",
       "      <td>SEM_Sofas</td>\n",
       "      <td>Phrase</td>\n",
       "    </tr>\n",
       "  </tbody>\n",
       "</table>\n",
       "<p>120 rows × 4 columns</p>\n",
       "</div>"
      ],
      "text/plain": [
       "     Ad Group              Keyword   Campaign Criterion Type\n",
       "0       sofas            sofas buy  SEM_Sofas          Exact\n",
       "1       sofas            buy sofas  SEM_Sofas          Exact\n",
       "2       sofas          sofas price  SEM_Sofas          Exact\n",
       "3       sofas          price sofas  SEM_Sofas          Exact\n",
       "4       sofas       sofas discount  SEM_Sofas          Exact\n",
       "..        ...                  ...        ...            ...\n",
       "55  sofa beds  promotion sofa beds  SEM_Sofas         Phrase\n",
       "56  sofa beds      sofa beds promo  SEM_Sofas         Phrase\n",
       "57  sofa beds      promo sofa beds  SEM_Sofas         Phrase\n",
       "58  sofa beds       sofa beds shop  SEM_Sofas         Phrase\n",
       "59  sofa beds       shop sofa beds  SEM_Sofas         Phrase\n",
       "\n",
       "[120 rows x 4 columns]"
      ]
     },
     "execution_count": 13,
     "metadata": {},
     "output_type": "execute_result"
    }
   ],
   "source": [
    "keywords_phrase = keywords_df.copy()\n",
    "\n",
    "#change the criterion type match to phrase\n",
    "keywords_phrase['Criterion Type'] = 'Phrase'\n",
    "\n",
    "#append the dataframes\n",
    "keywords_df_definite = keywords_df.append(keywords_phrase)\n",
    "keywords_df_definite"
   ]
  },
  {
   "cell_type": "code",
   "execution_count": 20,
   "id": "29bdcf00",
   "metadata": {},
   "outputs": [
    {
     "data": {
      "text/html": [
       "<div>\n",
       "<style scoped>\n",
       "    .dataframe tbody tr th:only-of-type {\n",
       "        vertical-align: middle;\n",
       "    }\n",
       "\n",
       "    .dataframe tbody tr th {\n",
       "        vertical-align: top;\n",
       "    }\n",
       "\n",
       "    .dataframe thead th {\n",
       "        text-align: right;\n",
       "    }\n",
       "</style>\n",
       "<table border=\"1\" class=\"dataframe\">\n",
       "  <thead>\n",
       "    <tr style=\"text-align: right;\">\n",
       "      <th></th>\n",
       "      <th>Ad Group</th>\n",
       "      <th>Keyword</th>\n",
       "      <th>Campaign</th>\n",
       "      <th>Criterion Type</th>\n",
       "      <th>Final URL</th>\n",
       "    </tr>\n",
       "  </thead>\n",
       "  <tbody>\n",
       "    <tr>\n",
       "      <th>0</th>\n",
       "      <td>sofas</td>\n",
       "      <td>sofas buy</td>\n",
       "      <td>SEM_Sofas</td>\n",
       "      <td>Exact</td>\n",
       "      <td>YourDomainSofas.com/sofas</td>\n",
       "    </tr>\n",
       "    <tr>\n",
       "      <th>1</th>\n",
       "      <td>sofas</td>\n",
       "      <td>buy sofas</td>\n",
       "      <td>SEM_Sofas</td>\n",
       "      <td>Exact</td>\n",
       "      <td>YourDomainSofas.com/sofas</td>\n",
       "    </tr>\n",
       "    <tr>\n",
       "      <th>2</th>\n",
       "      <td>sofas</td>\n",
       "      <td>sofas price</td>\n",
       "      <td>SEM_Sofas</td>\n",
       "      <td>Exact</td>\n",
       "      <td>YourDomainSofas.com/sofas</td>\n",
       "    </tr>\n",
       "    <tr>\n",
       "      <th>3</th>\n",
       "      <td>sofas</td>\n",
       "      <td>price sofas</td>\n",
       "      <td>SEM_Sofas</td>\n",
       "      <td>Exact</td>\n",
       "      <td>YourDomainSofas.com/sofas</td>\n",
       "    </tr>\n",
       "    <tr>\n",
       "      <th>4</th>\n",
       "      <td>sofas</td>\n",
       "      <td>sofas discount</td>\n",
       "      <td>SEM_Sofas</td>\n",
       "      <td>Exact</td>\n",
       "      <td>YourDomainSofas.com/sofas</td>\n",
       "    </tr>\n",
       "  </tbody>\n",
       "</table>\n",
       "</div>"
      ],
      "text/plain": [
       "  Ad Group         Keyword   Campaign Criterion Type  \\\n",
       "0    sofas       sofas buy  SEM_Sofas          Exact   \n",
       "1    sofas       buy sofas  SEM_Sofas          Exact   \n",
       "2    sofas     sofas price  SEM_Sofas          Exact   \n",
       "3    sofas     price sofas  SEM_Sofas          Exact   \n",
       "4    sofas  sofas discount  SEM_Sofas          Exact   \n",
       "\n",
       "                   Final URL  \n",
       "0  YourDomainSofas.com/sofas  \n",
       "1  YourDomainSofas.com/sofas  \n",
       "2  YourDomainSofas.com/sofas  \n",
       "3  YourDomainSofas.com/sofas  \n",
       "4  YourDomainSofas.com/sofas  "
      ]
     },
     "execution_count": 20,
     "metadata": {},
     "output_type": "execute_result"
    }
   ],
   "source": [
    "#create domains\n",
    "keywords_df_definite['Final URL'] = 'YourDomainSofas.com/' + keywords_df_definite['Ad Group']\n",
    "keywords_df_definite.head()"
   ]
  },
  {
   "cell_type": "markdown",
   "id": "79fac27a",
   "metadata": {},
   "source": [
    "## save and summarize"
   ]
  },
  {
   "cell_type": "code",
   "execution_count": 21,
   "id": "16db6813",
   "metadata": {},
   "outputs": [
    {
     "data": {
      "text/plain": [
       "Ad Group           Criterion Type\n",
       "convertible sofas  Exact             12\n",
       "                   Phrase            12\n",
       "love seats         Exact             12\n",
       "                   Phrase            12\n",
       "recliners          Exact             12\n",
       "                   Phrase            12\n",
       "sofa beds          Exact             12\n",
       "                   Phrase            12\n",
       "sofas              Exact             12\n",
       "                   Phrase            12\n",
       "Name: Keyword, dtype: int64"
      ]
     },
     "execution_count": 21,
     "metadata": {},
     "output_type": "execute_result"
    }
   ],
   "source": [
    "keywords_df_definite.to_csv('keywords.csv', index = False)\n",
    "encapsulation = keywords_df_definite.groupby(['Ad Group', 'Criterion Type'])['Keyword'].count()\n",
    "encapsulation"
   ]
  },
  {
   "cell_type": "code",
   "execution_count": null,
   "id": "ad5b5345",
   "metadata": {},
   "outputs": [],
   "source": []
  }
 ],
 "metadata": {
  "kernelspec": {
   "display_name": "Python 3",
   "language": "python",
   "name": "python3"
  },
  "language_info": {
   "codemirror_mode": {
    "name": "ipython",
    "version": 3
   },
   "file_extension": ".py",
   "mimetype": "text/x-python",
   "name": "python",
   "nbconvert_exporter": "python",
   "pygments_lexer": "ipython3",
   "version": "3.8.8"
  }
 },
 "nbformat": 4,
 "nbformat_minor": 5
}
